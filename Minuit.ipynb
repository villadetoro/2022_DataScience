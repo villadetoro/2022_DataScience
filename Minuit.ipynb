{
 "cells": [
  {
   "cell_type": "markdown",
   "metadata": {},
   "source": [
    "# **CHECKPOINT 4:** MAXIMUM LIKELIHOOD FITTING "
   ]
  },
  {
   "cell_type": "markdown",
   "metadata": {},
   "source": [
    "## S1867522"
   ]
  },
  {
   "cell_type": "code",
   "execution_count": 1,
   "metadata": {},
   "outputs": [],
   "source": [
    "# libraries used\n",
    "import numpy as np\n",
    "import matplotlib.pyplot as plt\n",
    "import math\n",
    "from iminuit import Minuit"
   ]
  },
  {
   "cell_type": "markdown",
   "metadata": {},
   "source": [
    "## **PART 1**"
   ]
  },
  {
   "cell_type": "markdown",
   "metadata": {},
   "source": [
    "In this part I first plot the histogram of the given data, then I calculate the maximum likelihood fit of the data to obtain the lifetime and its error. This is done firstly with the default way (integrating over the whole range of [0, inf]) and the I do it by normalizing the PDF over the range of the data (ie. [0,10])."
   ]
  },
  {
   "cell_type": "code",
   "execution_count": 2,
   "metadata": {},
   "outputs": [],
   "source": [
    "# load data into a numpy array \n",
    "data = np.loadtxt(\"datafile-exp.txt\")"
   ]
  },
  {
   "cell_type": "code",
   "execution_count": 3,
   "metadata": {},
   "outputs": [
    {
     "data": {
      "image/png": "[encoded data removed]",
      "text/plain": [
       "<Figure size 640x480 with 1 Axes>"
      ]
     },
     "metadata": {},
     "output_type": "display_data"
    }
   ],
   "source": [
    "# plot histogram\n",
    "plt.hist(data, bins = 100, color = \"darkorange\")\n",
    "plt.xlabel(\"Time (microseconds)\")\n",
    "plt.ylabel(\"Counts\")\n",
    "plt.show;"
   ]
  },
  {
   "cell_type": "markdown",
   "metadata": {},
   "source": [
    "## Minimisation for range [0,inf] \n",
    "### (default with Minuit)"
   ]
  },
  {
   "cell_type": "code",
   "execution_count": 4,
   "metadata": {},
   "outputs": [],
   "source": [
    "# Define PDF function for an exponential decay \n",
    "\n",
    "def pdf_func(x, lifetime):\n",
    "   \n",
    "    return (1/lifetime)*np.exp(-x/lifetime)"
   ]
  },
  {
   "cell_type": "code",
   "execution_count": 5,
   "metadata": {},
   "outputs": [],
   "source": [
    "# Define the negative of the log of the joint likelihood\n",
    "\n",
    "def NLL_func(lifetime):\n",
    "\n",
    "    return -1*np.sum(np.log(pdf_func(data, lifetime)))"
   ]
  },
  {
   "cell_type": "code",
   "execution_count": 6,
   "metadata": {},
   "outputs": [
    {
     "name": "stdout",
     "output_type": "stream",
     "text": [
      "<ValueView lifetime=2.096073738281763>\n",
      "<ErrorView lifetime=0.029642920349155985>\n"
     ]
    }
   ],
   "source": [
    "# Estimate best value of lifetime by minimising NLL using Minuit\n",
    "\n",
    "m = Minuit(NLL_func, lifetime = 2.2)\n",
    "\n",
    "m.migrad()  # run optimiser\n",
    "m.hesse()   # run covariance estimator\n",
    "\n",
    "print(m.values)  # print estimated values\n",
    "print(m.errors)  # print error of the estimated values"
   ]
  },
  {
   "cell_type": "markdown",
   "metadata": {},
   "source": [
    "## Minimisation for range [0,10]\n",
    "### Normalizing the PDF manually over an especific range"
   ]
  },
  {
   "cell_type": "code",
   "execution_count": 7,
   "metadata": {},
   "outputs": [],
   "source": [
    "# Define PDF function for an exponential decay (normlaized)\n",
    "\n",
    "def pdf_func_norm(x, lifetime, a, b):\n",
    "     \n",
    "     return (1/lifetime)*np.exp(-x/lifetime) / (np.exp(-a/lifetime) - np.exp(-b/lifetime) )\n",
    "    "
   ]
  },
  {
   "cell_type": "code",
   "execution_count": 8,
   "metadata": {},
   "outputs": [],
   "source": [
    "# Define the negative of the log of the joint likelihood for the normalized function\n",
    "\n",
    "def NLL_func_norm(lifetime):\n",
    "    # parameters for the range 0 and 10\n",
    "    return -1*np.sum(np.log(pdf_func_norm(data, lifetime, 0, 10)))"
   ]
  },
  {
   "cell_type": "code",
   "execution_count": 9,
   "metadata": {},
   "outputs": [
    {
     "name": "stdout",
     "output_type": "stream",
     "text": [
      "<ValueView lifetime=2.2043268588893827>\n",
      "<ErrorView lifetime=0.03541593189633051>\n"
     ]
    }
   ],
   "source": [
    "# Estimate best value of lifetime by minimising NLL using Minuit\n",
    "\n",
    "m_norm = Minuit(NLL_func_norm, lifetime = 2.2)\n",
    "\n",
    "m_norm.migrad()  # run optimiser\n",
    "m_norm.hesse()   # run covariance estimator\n",
    "\n",
    "print(m_norm.values)  # print estimated values\n",
    "print(m_norm.errors)  # print error of the estimated values"
   ]
  },
  {
   "cell_type": "markdown",
   "metadata": {},
   "source": [
    "### The values for the estimated lifetime after the maximum likelihood fit are slightly different (over range [0,inf] lifetime = ~2.10, over range [0,10] lifetime = ~2.20). These values are going to be different as in the case integrating over infinite we are taking into account a tail that should go to infinite, whereas in the second calculation we cut the tail in the given range (having \"less data\")."
   ]
  },
  {
   "cell_type": "markdown",
   "metadata": {},
   "source": [
    "## **PART 2**"
   ]
  },
  {
   "cell_type": "markdown",
   "metadata": {},
   "source": [
    "For this part I followed the same procedure as for Part 1 (with especified range). First I plotted the data, then I defined the normalized PDF function over a range (in this case it's made up of the combination of two functions, and exponetial decay and a Gaussian). I calculated the NLL (negative of the log of the joint likelihood) for the function and then I minimise it by using Minuit. The parameters we want to estimate are the lifetime, the eman of the Gaussian, and the fraction of the combination of the two functions (exponential anf Gaussian)."
   ]
  },
  {
   "cell_type": "code",
   "execution_count": 10,
   "metadata": {},
   "outputs": [],
   "source": [
    "# load data into a numpy array \n",
    "data2 = np.loadtxt(\"datafile-expresonance.txt\")"
   ]
  },
  {
   "cell_type": "code",
   "execution_count": 11,
   "metadata": {},
   "outputs": [
    {
     "data": {
      "image/png": "[encoded data removed]",
      "text/plain": [
       "<Figure size 640x480 with 1 Axes>"
      ]
     },
     "metadata": {},
     "output_type": "display_data"
    }
   ],
   "source": [
    "# plot histogram\n",
    "plt.hist(data2, bins = 200, color = \"darkorange\")\n",
    "plt.xlabel(\"Time (microseconds)\")\n",
    "plt.ylabel(\"Counts\")\n",
    "plt.show;"
   ]
  },
  {
   "cell_type": "code",
   "execution_count": 12,
   "metadata": {},
   "outputs": [],
   "source": [
    "# Define the normalized over a given range combined PDF function\n",
    "# exponential decay + gaussian distirbution\n",
    "\n",
    "def pdf_comb (x, F, lifetime, mu):\n",
    "\n",
    "    # given Gaussian width\n",
    "    sigma = 0.2\n",
    "\n",
    "    # range [0,10]\n",
    "    a = 0\n",
    "    b = 10\n",
    "\n",
    "    return F*((1/lifetime)*np.exp(-x/lifetime) / (np.exp(-a/lifetime) - np.exp(-b/lifetime) )) + (1-F)* ( (1/(sigma*np.sqrt(2*np.pi))) * np.exp(-(x-mu)**2 / (2*sigma**2))  )"
   ]
  },
  {
   "cell_type": "code",
   "execution_count": 13,
   "metadata": {},
   "outputs": [],
   "source": [
    "# Define the negative of the log of the joint likelihood for the normalized function\n",
    "\n",
    "def NLL_func_comb(F, lifetime, mu):\n",
    "\n",
    "    return -np.sum(np.log(pdf_comb(data2, F, lifetime, mu)))"
   ]
  },
  {
   "cell_type": "code",
   "execution_count": 14,
   "metadata": {},
   "outputs": [
    {
     "name": "stdout",
     "output_type": "stream",
     "text": [
      "<ValueView F=0.9028523764104412 lifetime=5.042590649091298 mu=2.4997166475862467>\n",
      "<ErrorView F=0.0063732727372126175 lifetime=0.14516293240930184 mu=0.016667781071892467>\n"
     ]
    }
   ],
   "source": [
    "# Estimate best value of lifetime by minimising NLL using Minuit\n",
    "\n",
    "m_comb = Minuit(NLL_func_comb, F = 0.9, lifetime = 2.2, mu = 2.5)\n",
    "\n",
    "m_comb.migrad()  # run optimiser\n",
    "m_comb.hesse()   # run covariance estimator\n",
    "\n",
    "print(m_comb.values)  # print estimated values\n",
    "print(m_comb.errors)  # print error of the estimated values"
   ]
  },
  {
   "cell_type": "markdown",
   "metadata": {},
   "source": [
    "The values for the parameters \"lifetime\", \"mu\", and \"F\" are determined with their correnspondent error after the minimisation with Minuit."
   ]
  },
  {
   "cell_type": "markdown",
   "metadata": {},
   "source": [
    "### **END OF NOTEBOOK**"
   ]
  }
 ],
 "metadata": {
  "kernelspec": {
   "display_name": "Python 3.9.13 ('daml')",
   "language": "python",
   "name": "python3"
  },
  "language_info": {
   "codemirror_mode": {
    "name": "ipython",
    "version": 3
   },
   "file_extension": ".py",
   "mimetype": "text/x-python",
   "name": "python",
   "nbconvert_exporter": "python",
   "pygments_lexer": "ipython3",
   "version": "3.9.13"
  },
  "orig_nbformat": 4,
  "vscode": {
   "interpreter": {
    "hash": "aa8f7fdf83b5f1ccd18250a318def58717bab35df4bdf7bdaa576d57998f1146"
   }
  }
 },
 "nbformat": 4,
 "nbformat_minor": 2
}
