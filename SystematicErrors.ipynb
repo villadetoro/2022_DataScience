{
 "cells": [
  {
   "cell_type": "markdown",
   "metadata": {},
   "source": [
    "# **CHECKPOINT 6:** Systematic Errors due to background model"
   ]
  },
  {
   "cell_type": "markdown",
   "metadata": {},
   "source": [
    "## S1867522"
   ]
  },
  {
   "cell_type": "code",
   "execution_count": 1,
   "metadata": {},
   "outputs": [],
   "source": [
    "# libraries used\n",
    "import numpy as np\n",
    "import matplotlib.pyplot as plt\n",
    "import math\n",
    "from iminuit import Minuit\n",
    "from scipy import integrate"
   ]
  },
  {
   "cell_type": "markdown",
   "metadata": {},
   "source": [
    "## **PART 1**"
   ]
  },
  {
   "cell_type": "markdown",
   "metadata": {},
   "source": [
    "**(i)** Fit to these data with the above model to determine the best fit parameters for F, A, and M"
   ]
  },
  {
   "cell_type": "markdown",
   "metadata": {},
   "source": [
    "**(ii)** Determine the statistical errors on each fit parameter"
   ]
  },
  {
   "cell_type": "markdown",
   "metadata": {},
   "source": [
    "**(iii)** Present the best fit values and errors on all parameters in a clear way"
   ]
  },
  {
   "cell_type": "markdown",
   "metadata": {},
   "source": [
    "**(iv)** Make sure the number of digits quoted is sensible - quote errors to 2 significant digits"
   ]
  },
  {
   "cell_type": "code",
   "execution_count": 2,
   "metadata": {},
   "outputs": [],
   "source": [
    "# load data into a numpy array \n",
    "data = np.loadtxt(\"datafile-higgs.txt\")"
   ]
  },
  {
   "cell_type": "code",
   "execution_count": 3,
   "metadata": {},
   "outputs": [
    {
     "data": {
      "image/png": "[encoded data removed]",
      "text/plain": [
       "<Figure size 640x480 with 1 Axes>"
      ]
     },
     "metadata": {},
     "output_type": "display_data"
    }
   ],
   "source": [
    "# plot histogram\n",
    "plt.hist(data, bins = 100, color = \"darkorange\")\n",
    "plt.xlabel(\"Time (microseconds)\")\n",
    "plt.ylabel(\"Counts\")\n",
    "plt.show;"
   ]
  },
  {
   "cell_type": "markdown",
   "metadata": {},
   "source": [
    "**Description of model:** Fraction F = 0.98 of events from a background exponential ~ exp(-m/A) where A = 5. A fraction (1 - F) = 0.02 of a signal Gaussian. Gaussian mean M = 2.5 with a width of 0.2. Range of events [0,10]"
   ]
  },
  {
   "cell_type": "code",
   "execution_count": 4,
   "metadata": {},
   "outputs": [],
   "source": [
    "# define combined PDF function normalized for a given range\n",
    "# exponential decay (background) + gaussian (signal)\n",
    "\n",
    "def pdf_comb (x, F, M, A):\n",
    "\n",
    "    # given Gaussian width\n",
    "    sigma = 0.2\n",
    "\n",
    "    # range [0,10]\n",
    "    a = 0\n",
    "    b = 10\n",
    "\n",
    "    return F*((1/A)*np.exp(-x/A) / (np.exp(-a/A) - np.exp(-b/A) )) + (1-F)* ( (1/(sigma*np.sqrt(2*np.pi))) * np.exp(-(x-M)**2 / (2*sigma**2))  )\n"
   ]
  },
  {
   "cell_type": "code",
   "execution_count": 5,
   "metadata": {},
   "outputs": [],
   "source": [
    "# Define the negative of the log of the joint likelihood for the normalized combined function\n",
    "\n",
    "def NLL_func_comb(F,M, A):\n",
    "\n",
    "    return -np.sum(np.log(pdf_comb(data, F, M, A)))"
   ]
  },
  {
   "cell_type": "code",
   "execution_count": 6,
   "metadata": {},
   "outputs": [
    {
     "name": "stdout",
     "output_type": "stream",
     "text": [
      "<ValueView F=0.9796055305629415 M=2.4985427310632864 A=5.0078637654208915>\n",
      "<ErrorView F=0.0011549221484484823 M=0.014565482031871736 A=0.030746038870231897>\n"
     ]
    }
   ],
   "source": [
    "# Estimate best value of lifetime by minimising NLL using Minuit\n",
    "\n",
    "m_comb = Minuit(NLL_func_comb, F = 0.9, A = 2.2, M = 2.5)\n",
    "\n",
    "m_comb.errordef = Minuit.LIKELIHOOD\n",
    "m_comb.migrad()  # run optimiser\n",
    "m_comb.hesse()   # run covariance estimator\n",
    "\n",
    "print(m_comb.values)  # print estimated values\n",
    "print(m_comb.errors)  # print error of the estimated values"
   ]
  },
  {
   "cell_type": "markdown",
   "metadata": {},
   "source": [
    "**Best fit parameter values with errors:**"
   ]
  },
  {
   "cell_type": "code",
   "execution_count": 7,
   "metadata": {},
   "outputs": [
    {
     "name": "stdout",
     "output_type": "stream",
     "text": [
      "F (fraction) = 0.9796 +/- 0.0012\n",
      "A (decay) = 5.008 +/- 0.031\n",
      "M (mean) = 2.499 +/- 0.015\n"
     ]
    }
   ],
   "source": [
    "print(\"F (fraction) = \" + str(round(m_comb.values[0],4)) + \" +/- \" + str(round(m_comb.errors[0],4)))\n",
    "print(\"A (decay) = \" + str(round(m_comb.values[2],3)) + \" +/- \" + str(round(m_comb.errors[2],3)))\n",
    "print(\"M (mean) = \" + str(round(m_comb.values[1],3)) + \" +/- \" + str(round(m_comb.errors[1],3)))"
   ]
  },
  {
   "cell_type": "markdown",
   "metadata": {},
   "source": [
    "## **PART 2**"
   ]
  },
  {
   "cell_type": "markdown",
   "metadata": {},
   "source": [
    "**(i)** Determine a systematic error due to background model on the mean of the Gaussian (M) by the \"shift\" method"
   ]
  },
  {
   "cell_type": "markdown",
   "metadata": {},
   "source": [
    "**(ii)** Fit to the same data using the same Gaussian signal model but now using a 2nd order polynomial background model"
   ]
  },
  {
   "cell_type": "code",
   "execution_count": 8,
   "metadata": {},
   "outputs": [],
   "source": [
    "# define combined PDF function normalized for a given range \n",
    "# polynomial (background) + gaussian (signal)\n",
    "\n",
    "def pdf_comb_2 (x, F, M, b, c):\n",
    "\n",
    "    # given Gaussian width\n",
    "    sigma = 0.2\n",
    "\n",
    "    # range [0,10]\n",
    "\n",
    "    # normalized gaussian PDF\n",
    "    gaussian = (1/(sigma*np.sqrt(2*np.pi))) * np.exp(-(np.array(x)-M)**2 / (2*(sigma**2))) \n",
    "\n",
    "    # normalized polynomial for the background\n",
    "    polyn = lambda x: (1 + b*x + c*(x**2))\n",
    "    integ = integrate.quad(polyn,0,10)[0]\n",
    "    pdf_polyn = (1 + b*np.array(x) + c*np.array(x**2)) \n",
    "\n",
    "    # total PDF\n",
    "    pdf_tot = F*(pdf_polyn/integ) + (1-F)* ( gaussian )\n",
    "    pdf_tot[pdf_tot<1e-4] = 1e-4\n",
    "\n",
    "    return pdf_tot"
   ]
  },
  {
   "cell_type": "code",
   "execution_count": 9,
   "metadata": {},
   "outputs": [],
   "source": [
    "# Define the negative of the log of the joint likelihood for the normalized combined function\n",
    "\n",
    "def NLL_func_comb_2(F, M,b,c):\n",
    "\n",
    "    return -np.sum(np.log(pdf_comb_2(data, F, M,b,c)))"
   ]
  },
  {
   "cell_type": "code",
   "execution_count": 10,
   "metadata": {},
   "outputs": [
    {
     "name": "stdout",
     "output_type": "stream",
     "text": [
      "<ValueView F=0.9820234223243929 M=2.494308689999232 b=-0.1577928963650138 c=0.007295158425674312>\n",
      "<ErrorView F=0.0011612954398321376 M=0.015626135865595442 b=0.0013469545231973997 c=0.00014938806437945595>\n"
     ]
    }
   ],
   "source": [
    "# Estimate best value of lifetime by minimising NLL using Minuit\n",
    "\n",
    "m_comb_2 = Minuit(NLL_func_comb_2, F = 0.9, M = 2.5, b = -0.016, c=0.007)\n",
    "\n",
    "m_comb_2.errordef = Minuit.LIKELIHOOD\n",
    "m_comb_2.migrad()  # run optimiser\n",
    "m_comb_2.hesse()   # run covariance estimator\n",
    "\n",
    "print(m_comb_2.values)  # print estimated values\n",
    "print(m_comb_2.errors)  # print error of the estimated values"
   ]
  },
  {
   "cell_type": "markdown",
   "metadata": {},
   "source": [
    "**(iii)** Present the results clearly as  M = Value +- Estat +- Esyst"
   ]
  },
  {
   "cell_type": "code",
   "execution_count": 11,
   "metadata": {},
   "outputs": [
    {
     "name": "stdout",
     "output_type": "stream",
     "text": [
      "V = Value +/- Stat Error +/- Syst Error\n",
      "F = 0.9796 +/- 0.0012 +/- -0.0024\n",
      "M = 2.499 +/- 0.015 +/- 0.0042\n"
     ]
    }
   ],
   "source": [
    "# calculating systematic errors\n",
    "F_syst = m_comb.values[0] - m_comb_2.values[0] \n",
    "M_syst = m_comb.values[1] - m_comb_2.values[1] \n",
    "\n",
    "print(\"V = \" + \"Value\" + \" +/- \" + \"Stat Error\"+ \" +/- \" + \"Syst Error\")\n",
    "print(\"F = \" + str(round(m_comb.values[0],4)) + \" +/- \" + str(round(m_comb.errors[0],4))+ \" +/- \" + str(round(F_syst,4)))\n",
    "print(\"M = \" + str(round(m_comb.values[1],3)) + \" +/- \" + str(round(m_comb.errors[1],3))+ \" +/- \" + str(round(M_syst,4)))"
   ]
  },
  {
   "cell_type": "markdown",
   "metadata": {},
   "source": [
    "**(iv)** Present the resutls as  M = Value +- Etot"
   ]
  },
  {
   "cell_type": "code",
   "execution_count": 12,
   "metadata": {},
   "outputs": [
    {
     "name": "stdout",
     "output_type": "stream",
     "text": [
      "V = Value +/- Tot Error\n",
      "F = 0.9796 +/- 0.0027\n",
      "M = 2.499 +/- 0.015\n"
     ]
    }
   ],
   "source": [
    "# calculating total errors\n",
    "F_tot = np.sqrt(F_syst**2 + m_comb.errors[0]**2)\n",
    "M_tot = np.sqrt(M_syst**2 + m_comb.errors[1]**2)\n",
    "\n",
    "print(\"V = \" + \"Value\" + \" +/- \" + \"Tot Error\")\n",
    "print(\"F = \" + str(round(m_comb.values[0],4)) + \" +/- \" + str(round(F_tot,4)))\n",
    "print(\"M = \" + str(round(m_comb.values[1],3)) + \" +/- \" + str(round(M_tot,3)))"
   ]
  },
  {
   "cell_type": "markdown",
   "metadata": {},
   "source": [
    "**(v)** Comment on the importance of the systematic error compared to the statistical error for the measurement of M"
   ]
  },
  {
   "cell_type": "markdown",
   "metadata": {},
   "source": [
    "The statistical error comes from assuming that everything done for the fitting is the ideal case (assumes that the PDF is the correct PDF for the data, that the background is understood perfectly, that the data is measured perfectly, etc).\n",
    "While the systematic errors come from our lack of knowledge of many things. In this case the systematic error on the mean is not really big so the calculated total error and the statistical one is the sme for 2 significant figures."
   ]
  },
  {
   "cell_type": "code",
   "execution_count": 21,
   "metadata": {},
   "outputs": [
    {
     "data": {
      "image/png": "[encoded data removed]",
      "text/plain": [
       "<Figure size 640x480 with 1 Axes>"
      ]
     },
     "metadata": {},
     "output_type": "display_data"
    }
   ],
   "source": [
    "# plot histogram with fitted function\n",
    "x = np.linspace(0, 10 ,1000)\n",
    "y = pdf_comb_2(x, m_comb_2.values[0], m_comb_2.values[1], m_comb_2.values[2], m_comb_2.values[3])\n",
    "\n",
    "plt.hist(data, bins = 100, color = \"darkorange\")\n",
    "plt.plot(x, y*10000)\n",
    "plt.xlabel(\"Time (microseconds)\")\n",
    "plt.ylabel(\"Counts\")\n",
    "plt.show;"
   ]
  },
  {
   "cell_type": "markdown",
   "metadata": {},
   "source": [
    "## **PART 3**"
   ]
  },
  {
   "cell_type": "markdown",
   "metadata": {},
   "source": [
    "**(i)** Do the same as part 2, but now using a straight line background model (bad model - this is harder)"
   ]
  },
  {
   "cell_type": "code",
   "execution_count": 14,
   "metadata": {},
   "outputs": [],
   "source": [
    "# define combined PDF function normalized for a given range taken into account the Decay Time Acceptance\n",
    "# exponential decay (background) + gaussian (signal)\n",
    "\n",
    "def pdf_comb_3 (x, F, M, b):\n",
    "\n",
    "    # given Gaussian width\n",
    "    sigma = 0.2\n",
    "\n",
    "    #a = 1 # fixed value\n",
    "    #b = -0.016\n",
    "    #c = 0.007\n",
    "\n",
    "    # range [0,10]\n",
    "\n",
    "    gaussian = (1/(sigma*np.sqrt(2*np.pi))) * np.exp(-(np.array(x)-M)**2 / (2*(sigma**2))) \n",
    "\n",
    "    polyn = lambda x: (1 + b*x)\n",
    "    integ = integrate.quad(polyn,0,10)[0]\n",
    "    pdf_polyn = (1 + b*np.array(x)) \n",
    "\n",
    "    pdf_tot = F*(pdf_polyn/integ) + (1-F)* ( gaussian )\n",
    "    pdf_tot[pdf_tot<1e-4] = 1e-4\n",
    "\n",
    "    return pdf_tot"
   ]
  },
  {
   "cell_type": "code",
   "execution_count": 15,
   "metadata": {},
   "outputs": [],
   "source": [
    "# Define the negative of the log of the joint likelihood for the normalized combined function\n",
    "\n",
    "def NLL_func_comb_3(F, M,b):\n",
    "\n",
    "    return -np.sum(np.log(pdf_comb_3(data, F, M,b)))"
   ]
  },
  {
   "cell_type": "code",
   "execution_count": 16,
   "metadata": {},
   "outputs": [
    {
     "name": "stdout",
     "output_type": "stream",
     "text": [
      "<ValueView F=0.9801180777081477 M=2.4654096627651554 b=-0.0904042750258938>\n",
      "<ErrorView F=0.001161225783457823 M=0.01513210259932867 b=0.00022291158439353693>\n"
     ]
    }
   ],
   "source": [
    "# Estimate best value of lifetime by minimising NLL using Minuit\n",
    "\n",
    "m_comb_3 = Minuit(NLL_func_comb_3, F = 0.9, M = 2.5, b = -0.09)\n",
    "\n",
    "m_comb_3.errordef = Minuit.LIKELIHOOD\n",
    "m_comb_3.migrad()  # run optimiser\n",
    "m_comb_3.hesse()   # run covariance estimator\n",
    "\n",
    "print(m_comb_3.values)  # print estimated values\n",
    "print(m_comb_3.errors)  # print error of the estimated values"
   ]
  },
  {
   "cell_type": "markdown",
   "metadata": {},
   "source": [
    "**(ii)** Present the result cleary as  M +- Estat +- Esyst"
   ]
  },
  {
   "cell_type": "code",
   "execution_count": 17,
   "metadata": {},
   "outputs": [
    {
     "name": "stdout",
     "output_type": "stream",
     "text": [
      "V = Value +/- Stat Error +/- Syst Error\n",
      "F = 0.9796 +/- 0.0012 +/- -0.00051\n",
      "M = 2.499 +/- 0.015 +/- 0.033\n"
     ]
    }
   ],
   "source": [
    "# calculating systematic errors\n",
    "F_syst_3 = m_comb.values[0] - m_comb_3.values[0] \n",
    "M_syst_3 = m_comb.values[1] - m_comb_3.values[1] \n",
    "\n",
    "print(\"V = \" + \"Value\" + \" +/- \" + \"Stat Error\"+ \" +/- \" + \"Syst Error\")\n",
    "print(\"F = \" + str(round(m_comb.values[0],4)) + \" +/- \" + str(round(m_comb.errors[0],4))+ \" +/- \" + str(round(F_syst_3,5)))\n",
    "print(\"M = \" + str(round(m_comb.values[1],3)) + \" +/- \" + str(round(m_comb.errors[1],3))+ \" +/- \" + str(round(M_syst_3,3)))"
   ]
  },
  {
   "cell_type": "markdown",
   "metadata": {},
   "source": [
    "**(iii)** Present the result as  M +- Etot"
   ]
  },
  {
   "cell_type": "code",
   "execution_count": 18,
   "metadata": {},
   "outputs": [
    {
     "name": "stdout",
     "output_type": "stream",
     "text": [
      "V = Value +/- Tot Error\n",
      "F = 0.9796 +/- 0.0013\n",
      "M = 2.499 +/- 0.036\n"
     ]
    }
   ],
   "source": [
    "# calculating total errors\n",
    "F_tot_3 = np.sqrt(F_syst_3**2 + m_comb.errors[0]**2)\n",
    "M_tot_3 = np.sqrt(M_syst_3**2 + m_comb.errors[1]**2)\n",
    "\n",
    "print(\"V = \" + \"Value\" + \" +/- \" + \"Tot Error\")\n",
    "print(\"F = \" + str(round(m_comb.values[0],4)) + \" +/- \" + str(round(F_tot_3,4)))\n",
    "print(\"M = \" + str(round(m_comb.values[1],3)) + \" +/- \" + str(round(M_tot_3,3)))"
   ]
  },
  {
   "cell_type": "markdown",
   "metadata": {},
   "source": [
    "**(iv)** Comment on the importance of the systematic error compared to the statistical error for the measurement of M"
   ]
  },
  {
   "cell_type": "markdown",
   "metadata": {},
   "source": [
    "The statistical error comes from assuming that everything done for the fitting is the ideal case (assumes that the PDF is the correct PDF for the data, that the background is understood perfectly, that the data is measured perfectly, etc).\n",
    "While the systematic errors come from our lack of knowledge of many things. In this case is easy to see in the plot below how the linear model for the background is not appropiate, and it can be seen how the systematic error has a big contribution to the total error at the end. "
   ]
  },
  {
   "cell_type": "code",
   "execution_count": 20,
   "metadata": {},
   "outputs": [
    {
     "data": {
      "image/png": "[encoded data removed]",
      "text/plain": [
       "<Figure size 640x480 with 1 Axes>"
      ]
     },
     "metadata": {},
     "output_type": "display_data"
    }
   ],
   "source": [
    "# plot histogram with fitted function\n",
    "x_2 = np.linspace(0, 10 ,1000)\n",
    "y_2 = pdf_comb_3(x, m_comb_3.values[0], m_comb_3.values[1], m_comb_3.values[2])\n",
    "\n",
    "plt.hist(data, bins = 100, color = \"darkorange\")\n",
    "plt.plot(x_2, y_2*10000)\n",
    "plt.xlabel(\"Time (microseconds)\")\n",
    "plt.ylabel(\"Counts\")\n",
    "plt.show;"
   ]
  },
  {
   "cell_type": "code",
   "execution_count": null,
   "metadata": {},
   "outputs": [],
   "source": []
  }
 ],
 "metadata": {
  "kernelspec": {
   "display_name": "Python 3.9.13 ('daml')",
   "language": "python",
   "name": "python3"
  },
  "language_info": {
   "codemirror_mode": {
    "name": "ipython",
    "version": 3
   },
   "file_extension": ".py",
   "mimetype": "text/x-python",
   "name": "python",
   "nbconvert_exporter": "python",
   "pygments_lexer": "ipython3",
   "version": "3.9.13"
  },
  "orig_nbformat": 4,
  "vscode": {
   "interpreter": {
    "hash": "aa8f7fdf83b5f1ccd18250a318def58717bab35df4bdf7bdaa576d57998f1146"
   }
  }
 },
 "nbformat": 4,
 "nbformat_minor": 2
}
